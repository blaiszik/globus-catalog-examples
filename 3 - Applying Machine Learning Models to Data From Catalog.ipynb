{
 "cells": [
  {
   "cell_type": "markdown",
   "metadata": {},
   "source": [
    "# Applying Machine Learning Models to Data From Catalog\n",
    "\n",
    "### Heavily based on SciPy 2015 ScikitLearn Tutorial by Jake Vanderplas\n",
    "https://github.com/jakevdp/sklearn_pycon2015/blob/master/notebooks/03.1-Classification-SVMs.ipynb"
   ]
  },
  {
   "cell_type": "code",
   "execution_count": 1,
   "metadata": {
    "collapsed": true
   },
   "outputs": [],
   "source": [
    "import scipy\n",
    "from scipy import *\n",
    "import numpy as np\n",
    "import pandas as pd\n",
    "import os\n",
    "import seaborn as sns\n",
    "import matplotlib.pyplot as plt\n",
    "from sklearn.datasets.samples_generator import make_blobs\n",
    "from sklearn.cross_validation import train_test_split\n",
    "\n",
    "\n",
    "from globusonline.catalog.client.catalog_wrapper import *\n",
    "from globusonline.catalog.client.operators import Op\n",
    "from globusonline.catalog.client.rest_client import RestClientError\n",
    "%matplotlib inline"
   ]
  },
  {
   "cell_type": "markdown",
   "metadata": {},
   "source": [
    "# Styling"
   ]
  },
  {
   "cell_type": "code",
   "execution_count": 2,
   "metadata": {
    "collapsed": true
   },
   "outputs": [],
   "source": [
    "sns.set_context(\"talk\", font_scale=1.3)\n",
    "\n",
    "ben_style = {'axes.axisbelow': True,\n",
    " 'axes.edgecolor': '0',\n",
    " 'axes.facecolor': 'white',\n",
    " 'axes.grid': True,\n",
    " 'axes.labelcolor': '.15',\n",
    " 'axes.linewidth': 1,\n",
    " 'figure.facecolor': 'white',\n",
    " 'font.family': [u'sans-serif'],\n",
    "             'font.size': 75,\n",
    " 'font.sans-serif': [u'Helvetica Neue',\n",
    "  u'Liberation Sans',\n",
    "  u'Bitstream Vera Sans',\n",
    "  u'sans-serif'],\n",
    " 'grid.color': '0.9',\n",
    " 'grid.linestyle': u'',\n",
    " 'image.cmap': u'Greys',\n",
    " 'legend.frameon': False,\n",
    " 'legend.numpoints': 1,\n",
    " 'legend.scatterpoints': 1,\n",
    " 'lines.solid_capstyle': u'round',\n",
    " 'text.color': '.15',\n",
    " 'xtick.color': '.15',\n",
    " 'xtick.direction': u'in',\n",
    " 'xtick.major.size': 3.0,\n",
    " 'xtick.minor.size': 2.0,\n",
    " 'ytick.color': '.15',\n",
    " 'ytick.direction': u'in',\n",
    " 'ytick.major.size': 3.0,\n",
    " 'ytick.minor.size': 2.0}\n",
    "\n",
    "sns.set_style(\"white\", ben_style)"
   ]
  },
  {
   "cell_type": "markdown",
   "metadata": {},
   "source": [
    "# Helper Functions"
   ]
  },
  {
   "cell_type": "code",
   "execution_count": 3,
   "metadata": {
    "collapsed": true
   },
   "outputs": [],
   "source": [
    "def catalog_insert_df(df, catalog_id, dataset_name='Untitled', create_tags=True):\n",
    "    tag_types = {dtype('O'):'text', dtype('int64'):'int8', dtype('float64'):'float8'}\n",
    "    tags = []\n",
    "    \n",
    "    #Create the necessary tag defs in the catalog\n",
    "    if create_tags:\n",
    "        for key in df.keys():\n",
    "            tags.append({})\n",
    "            try:\n",
    "                _,response = client.create_annotation_def \\\n",
    "                    (catalog_id=catalog_id, annotation_name=key, value_type=tag_types[df[key].dtype])\n",
    "            except Exception, e:\n",
    "                print e\n",
    "                pass\n",
    "            \n",
    "    #Create the dataset \n",
    "    _,result = client.create_dataset(catalog_id,{'name':dataset_name})\n",
    "    dataset_id = result['id']\n",
    "    \n",
    "    #Gather the member data\n",
    "    members = []\n",
    "    for row in df.iterrows():\n",
    "        tmp_dict = {}\n",
    "        for key in row[1].keys():\n",
    "            tmp_dict[key] = row[1][key]\n",
    "        members.append(tmp_dict)\n",
    "    \n",
    "    #Create the members using bulk insert\n",
    "    _,result = client.create_members(catalog_id, dataset_id, members)\n",
    "    return (catalog_id, dataset_id)\n",
    "\n",
    "def dataframe_from_catalog(catalog_id, dataset_id, columns):    \n",
    "    catalog_annotations = []\n",
    "    bad_annotations = []\n",
    "    _,result = client.get_annotation_defs(catalog_id)\n",
    "    for annotation in result:\n",
    "        catalog_annotations.append(annotation['name'])\n",
    "    \n",
    "    #print catalog_annotations\n",
    "        \n",
    "    black_list = ['readok', 'owner', 'writeok', 'created', 'modified', 'modified by']\n",
    "    for item in black_list:\n",
    "        try:   \n",
    "            catalog_annotations.remove(item)\n",
    "        except Exception, e:\n",
    "            pass\n",
    "\n",
    "    \n",
    "    member_annotations = []\n",
    "    _,member_annotations = client.get_all_member_annotations(catalog_id,dataset_id,'',columns,limit=200)\n",
    "    \n",
    "    return pd.DataFrame(member_annotations)\n",
    "\n",
    "def plot_svc_decision_function(clf, ax=None):\n",
    "    \"\"\"Plot the decision function for a 2D SVC\"\"\"\n",
    "    if ax is None:\n",
    "        ax = plt.gca()\n",
    "    x = np.linspace(plt.xlim()[0], plt.xlim()[1], 30)\n",
    "    y = np.linspace(plt.ylim()[0], plt.ylim()[1], 30)\n",
    "    Y, X = np.meshgrid(y, x)\n",
    "    P = np.zeros_like(X)\n",
    "    for i, xi in enumerate(x):\n",
    "        for j, yj in enumerate(y):\n",
    "            P[i, j] = clf.decision_function([xi, yj])\n",
    "    # plot the margins\n",
    "    ax.contour(X, Y, P, colors='k',\n",
    "               levels=[-1, 0, 1], alpha=0.5,\n",
    "               linestyles=['--', '-', '--'])\n",
    "    sns.despine()\n",
    "\n"
   ]
  },
  {
   "cell_type": "markdown",
   "metadata": {},
   "source": [
    "# Handle Authentication"
   ]
  },
  {
   "cell_type": "code",
   "execution_count": 4,
   "metadata": {
    "collapsed": true
   },
   "outputs": [],
   "source": [
    "# Store authentication data in a local file\n",
    "token_file = os.getenv('HOME','')+\"/.ssh/gotoken.txt\"\n",
    "wrap = CatalogWrapper(token_file=token_file)\n",
    "client = wrap.catalogClient"
   ]
  },
  {
   "cell_type": "markdown",
   "metadata": {},
   "source": [
    "# Creating Test Data (optional)"
   ]
  },
  {
   "cell_type": "code",
   "execution_count": 5,
   "metadata": {
    "collapsed": false
   },
   "outputs": [],
   "source": [
    "# Making a test dataset\n",
    "# This is how you could make a test dataset\n",
    "# X, y = make_blobs(n_samples=100, centers=2, cluster_std=0.60)\n",
    "# plt.scatter(X[:, 0], X[:, 1], c=y, s=50, cmap='spring');\n",
    "# sns.despine()"
   ]
  },
  {
   "cell_type": "markdown",
   "metadata": {},
   "source": [
    "# Push Data from a csv into a Catalog Dataset (optional)"
   ]
  },
  {
   "cell_type": "code",
   "execution_count": 6,
   "metadata": {
    "collapsed": false
   },
   "outputs": [],
   "source": [
    "# filepath = \"./datasets/blobs.csv\"\n",
    "# catalog_id = 148\n",
    "# dataset_title = \"My ML Dataset\"\n",
    "\n",
    "# #Read from csv into a dataframe\n",
    "# df = pd.read_csv(filepath)\n",
    "# data_columns = list(df.columns.values)\n",
    "\n",
    "# #Insert into catalog\n",
    "# catalog_id, dataset_id = catalog_insert_df(df, catalog_id, dataset_title, create_tags=True)"
   ]
  },
  {
   "cell_type": "markdown",
   "metadata": {},
   "source": [
    "# Load Dataset from a Catalog into a Dataframe\n",
    "### Using a preloaded two-class blob dataset"
   ]
  },
  {
   "cell_type": "code",
   "execution_count": 13,
   "metadata": {
    "collapsed": false,
    "scrolled": true
   },
   "outputs": [
    {
     "name": "stdout",
     "output_type": "stream",
     "text": [
      "/catalog/id=148/dataset/id=54/member\n",
      "/catalog/id=148/dataset/id=54/member/sample;x;y;class;data_type;data_uri/annotation/sample;x;y;class;data_type;data_uri?limit=200\n"
     ]
    }
   ],
   "source": [
    "filepath = \"./datasets/blobs.csv\"\n",
    "df = pd.read_csv(filepath)\n",
    "data_columns = list(df.columns.values)\n",
    "catalog_id = 148\n",
    "dataset_id = 54\n",
    "ml_df = dataframe_from_catalog(catalog_id, dataset_id, data_columns)"
   ]
  },
  {
   "cell_type": "code",
   "execution_count": 14,
   "metadata": {
    "collapsed": false
   },
   "outputs": [
    {
     "data": {
      "text/html": [
       "<div>\n",
       "<table border=\"1\" class=\"dataframe\">\n",
       "  <thead>\n",
       "    <tr style=\"text-align: right;\">\n",
       "      <th></th>\n",
       "      <th>class</th>\n",
       "      <th>data_type</th>\n",
       "      <th>data_uri</th>\n",
       "      <th>id</th>\n",
       "      <th>sample</th>\n",
       "      <th>x</th>\n",
       "      <th>y</th>\n",
       "    </tr>\n",
       "  </thead>\n",
       "  <tbody>\n",
       "    <tr>\n",
       "      <th>0</th>\n",
       "      <td>0</td>\n",
       "      <td>file</td>\n",
       "      <td>globus://go#ep1/share/godata/file1 .txt</td>\n",
       "      <td>55</td>\n",
       "      <td>1</td>\n",
       "      <td>6.70</td>\n",
       "      <td>5.76</td>\n",
       "    </tr>\n",
       "    <tr>\n",
       "      <th>1</th>\n",
       "      <td>1</td>\n",
       "      <td>file</td>\n",
       "      <td>globus://go#ep1/share/godata/file2 .txt</td>\n",
       "      <td>56</td>\n",
       "      <td>2</td>\n",
       "      <td>4.18</td>\n",
       "      <td>8.46</td>\n",
       "    </tr>\n",
       "    <tr>\n",
       "      <th>2</th>\n",
       "      <td>1</td>\n",
       "      <td>file</td>\n",
       "      <td>globus://go#ep1/share/godata/file3 .txt</td>\n",
       "      <td>57</td>\n",
       "      <td>3</td>\n",
       "      <td>3.96</td>\n",
       "      <td>7.78</td>\n",
       "    </tr>\n",
       "    <tr>\n",
       "      <th>3</th>\n",
       "      <td>0</td>\n",
       "      <td>file</td>\n",
       "      <td>globus://go#ep1/share/godata/file4 .txt</td>\n",
       "      <td>58</td>\n",
       "      <td>4</td>\n",
       "      <td>6.57</td>\n",
       "      <td>5.64</td>\n",
       "    </tr>\n",
       "    <tr>\n",
       "      <th>4</th>\n",
       "      <td>1</td>\n",
       "      <td>file</td>\n",
       "      <td>globus://go#ep1/share/godata/file5 .txt</td>\n",
       "      <td>59</td>\n",
       "      <td>5</td>\n",
       "      <td>4.01</td>\n",
       "      <td>8.58</td>\n",
       "    </tr>\n",
       "  </tbody>\n",
       "</table>\n",
       "</div>"
      ],
      "text/plain": [
       "   class data_type                                 data_uri  id  sample     x  \\\n",
       "0      0      file  globus://go#ep1/share/godata/file1 .txt  55       1  6.70   \n",
       "1      1      file  globus://go#ep1/share/godata/file2 .txt  56       2  4.18   \n",
       "2      1      file  globus://go#ep1/share/godata/file3 .txt  57       3  3.96   \n",
       "3      0      file  globus://go#ep1/share/godata/file4 .txt  58       4  6.57   \n",
       "4      1      file  globus://go#ep1/share/godata/file5 .txt  59       5  4.01   \n",
       "\n",
       "      y  \n",
       "0  5.76  \n",
       "1  8.46  \n",
       "2  7.78  \n",
       "3  5.64  \n",
       "4  8.58  "
      ]
     },
     "execution_count": 14,
     "metadata": {},
     "output_type": "execute_result"
    }
   ],
   "source": [
    "ml_df.head(5)"
   ]
  },
  {
   "cell_type": "markdown",
   "metadata": {},
   "source": [
    "# Visualize the Dataset"
   ]
  },
  {
   "cell_type": "code",
   "execution_count": 15,
   "metadata": {
    "collapsed": false
   },
   "outputs": [
    {
     "data": {
      "image/png": "[encoded data removed]",
      "text/plain": [
       "<matplotlib.figure.Figure at 0x10abd3cd0>"
      ]
     },
     "metadata": {},
     "output_type": "display_data"
    }
   ],
   "source": [
    "fig = sns.lmplot(x=\"x\", y=\"y\", data=df, order=2, hue=\"class\", fit_reg=False, scatter_kws={\"s\": 50});\n",
    "fig.ax.set_ylabel('x')\n",
    "fig.ax.set_xlabel('y')\n",
    "sns.despine()"
   ]
  },
  {
   "cell_type": "markdown",
   "metadata": {},
   "source": [
    "# Perform Support Vector Classification on the Dataset and Plot Decision Function and Support Vectors"
   ]
  },
  {
   "cell_type": "code",
   "execution_count": 34,
   "metadata": {
    "collapsed": false
   },
   "outputs": [
    {
     "data": {
      "image/png": "[encoded data removed]",
      "text/plain": [
       "<matplotlib.figure.Figure at 0x10acd7e10>"
      ]
     },
     "metadata": {},
     "output_type": "display_data"
    }
   ],
   "source": [
    "from sklearn.svm import SVC # \"Support Vector Classifier\"\n",
    "from sklearn.metrics import confusion_matrix\n",
    "clf = SVC(kernel='linear')\n",
    "clf.fit(df[['x','y']], df['class'])\n",
    "fig = sns.lmplot(x=\"x\", y=\"y\", data=df, order=1, hue=\"class\", fit_reg=False, scatter_kws={\"s\": 50});\n",
    "fig.ax.set_ylabel('x')\n",
    "fig.ax.set_xlabel('y')\n",
    "\n",
    "plot_svc_decision_function(clf);"
   ]
  },
  {
   "cell_type": "markdown",
   "metadata": {},
   "source": [
    "# Model Validation and Scoring"
   ]
  },
  {
   "cell_type": "markdown",
   "metadata": {},
   "source": [
    "## Split Dataset into Training and Test Dataset"
   ]
  },
  {
   "cell_type": "code",
   "execution_count": 50,
   "metadata": {
    "collapsed": true
   },
   "outputs": [],
   "source": [
    "x_train, x_test, class_train, class_test = train_test_split(df[['x','y']], df['class'], \n",
    "                                                    test_size=0.2)"
   ]
  },
  {
   "cell_type": "markdown",
   "metadata": {},
   "source": [
    "## Model and make predictions"
   ]
  },
  {
   "cell_type": "code",
   "execution_count": 51,
   "metadata": {
    "collapsed": false
   },
   "outputs": [],
   "source": [
    "clf = SVC(kernel='linear')\n",
    "class_pred = clf.fit(x_train, class_train).predict(x_test)"
   ]
  },
  {
   "cell_type": "markdown",
   "metadata": {},
   "source": [
    "## Score the Model and Visualize Output Errors"
   ]
  },
  {
   "cell_type": "code",
   "execution_count": 61,
   "metadata": {
    "collapsed": false
   },
   "outputs": [
    {
     "name": "stdout",
     "output_type": "stream",
     "text": [
      "[[12  0]\n",
      " [ 0  8]]\n",
      "Normalized confusion matrix\n",
      "[[ 1.  0.]\n",
      " [ 0.  1.]]\n"
     ]
    },
    {
     "data": {
      "image/png": "[encoded data removed]",
      "text/plain": [
       "<matplotlib.figure.Figure at 0x10b408190>"
      ]
     },
     "metadata": {},
     "output_type": "display_data"
    }
   ],
   "source": [
    "def plot_confusion_matrix(cm, title='Confusion matrix', cmap=plt.cm.Blues):\n",
    "    plt.imshow(cm, interpolation='nearest', cmap=cmap)\n",
    "    plt.title(title)\n",
    "    plt.colorbar()\n",
    "    plt.tight_layout()\n",
    "    plt.xticks([0,1], [0,1])\n",
    "    plt.yticks([0,1], [0,1])\n",
    "    plt.ylabel('True label')\n",
    "    plt.xlabel('Predicted label')\n",
    "\n",
    "cm = confusion_matrix(class_test, class_pred)\n",
    "cm_normalized = cm.astype('float') / cm.sum(axis=1)[:, np.newaxis]\n",
    "print cm\n",
    "print('Normalized confusion matrix')\n",
    "print(cm_normalized)\n",
    "plot_confusion_matrix(cm_normalized, title=\"Normalized Confusion Matrix\")"
   ]
  },
  {
   "cell_type": "code",
   "execution_count": null,
   "metadata": {
    "collapsed": true
   },
   "outputs": [],
   "source": []
  }
 ],
 "metadata": {
  "kernelspec": {
   "display_name": "Python 2",
   "language": "python",
   "name": "python2"
  },
  "language_info": {
   "codemirror_mode": {
    "name": "ipython",
    "version": 2
   },
   "file_extension": ".py",
   "mimetype": "text/x-python",
   "name": "python",
   "nbconvert_exporter": "python",
   "pygments_lexer": "ipython2",
   "version": "2.7.10"
  }
 },
 "nbformat": 4,
 "nbformat_minor": 0
}
