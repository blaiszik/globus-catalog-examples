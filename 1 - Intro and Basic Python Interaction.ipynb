{
 "cells": [
  {
   "cell_type": "markdown",
   "metadata": {},
   "source": [
    "# 1 - Introduction to Catalog and Basic Python Client Interactions"
   ]
  },
  {
   "cell_type": "markdown",
   "metadata": {},
   "source": [
    "## Before starting, follow installation here\n",
    "\n",
    "### INSTALL REQUIREMENTS\n",
    "1) Install Globus Catalog-client (https://github.com/globusonline/catalog-client)\n",
    "git clone https://github.com/globusonline/catalog-client\n",
    "cd catalog-client\n",
    "python setup.py install --user\n",
    "\n",
    "2) Install Globus Transfer API (https://github.com/globusonline/transfer-api-client-python)\n",
    "git clone https://github.com/globusonline/transfer-api-client-python\n",
    "cd transfer-api-client-python\n",
    "python setup.py install --user\n",
    "\n",
    "### Globus Online - Catalog Command Line Client\n",
    "[https://github.com/globusonline/catalog-client]\n",
    "\n",
    "Catalog User Interface: https://catalog-alpha.globuscs.info/\n",
    "Contact: Ben Blaiszik (blaiszik@uchicago.edu)\n",
    "\n",
    "### OBTAIN GLOBUS CREDENTIALS\n",
    "https://www.globus.org/SignUp - **this is the credential you will use with Catalog**\n"
   ]
  },
  {
   "cell_type": "code",
   "execution_count": null,
   "metadata": {
    "collapsed": true
   },
   "outputs": [],
   "source": []
  },
  {
   "cell_type": "markdown",
   "metadata": {},
   "source": [
    "# Catalog Data Model\n",
    "\n",
    "* <b> Catalogs </b>\n",
    "    * Have specified \"vocabularies\" or tag definitions.\n",
    "        * e.g. beam_energy - float, decription - text\n",
    "    * Catalogs contain many datasets\n",
    "        \n",
    "* <b> Datsets </b>\n",
    "    * Datasets can have tags added and ACLs specified\n",
    "    * Datasets contain many members\n",
    "* <b> Members </b>\n",
    "    * Members can have tags added\n",
    "    * Generally point to a data file or directory on a Globus endpoint\n",
    "    * COuld be a more general URI"
   ]
  },
  {
   "cell_type": "markdown",
   "metadata": {},
   "source": [
    "<img src=\"img/catalog-model.png\" width=70%>"
   ]
  },
  {
   "cell_type": "code",
   "execution_count": 12,
   "metadata": {
    "collapsed": false
   },
   "outputs": [
    {
     "name": "stdout",
     "output_type": "stream",
     "text": [
      "\n"
     ]
    }
   ],
   "source": [
    "# import scipy\n",
    "# from scipy import *\n",
    "# import numpy as np\n",
    "# import pandas as pd\n",
    "# import seaborn as sns\n",
    "# import matplotlib.pyplot as plt\n",
    "%matplotlib inline\n",
    "\n",
    "import os\n",
    "from globusonline.catalog.client.catalog_wrapper import *\n",
    "from globusonline.catalog.client.operators import Op\n",
    "from globusonline.catalog.client.rest_client import RestClientError\n",
    "\n",
    "\n"
   ]
  },
  {
   "cell_type": "markdown",
   "metadata": {},
   "source": [
    "# Authentication"
   ]
  },
  {
   "cell_type": "code",
   "execution_count": 13,
   "metadata": {
    "collapsed": false
   },
   "outputs": [],
   "source": [
    "# Store authentication data in a local file\n",
    "token_file = os.getenv('HOME','')+\"/.ssh/gotoken.txt\"\n",
    "wrap = CatalogWrapper(token_file=token_file)\n",
    "client = wrap.catalogClient"
   ]
  },
  {
   "cell_type": "markdown",
   "metadata": {},
   "source": [
    "# Create a Catalog and Save the ID"
   ]
  },
  {
   "cell_type": "code",
   "execution_count": 15,
   "metadata": {
    "collapsed": true
   },
   "outputs": [],
   "source": [
    "catalog_info = { \n",
    "                    \"config\": {\n",
    "                        \"name\":\"Ben Demo Catalog\"\n",
    "                    }\n",
    "               }\n",
    "_,response = client.create_catalog(catalog_info)\n",
    "catalog_id = response['id']"
   ]
  },
  {
   "cell_type": "code",
   "execution_count": 20,
   "metadata": {
    "collapsed": false
   },
   "outputs": [
    {
     "data": {
      "text/plain": [
       "{u'config': {u'content_read_users': [u'*'],\n",
       "  u'content_write_users': [u'*'],\n",
       "  u'name': u'Ben Demo Catalog',\n",
       "  u'owner': u'u:blaiszik',\n",
       "  u'read_users': [u'*'],\n",
       "  u'write_users': []},\n",
       " u'id': 144}"
      ]
     },
     "execution_count": 20,
     "metadata": {},
     "output_type": "execute_result"
    }
   ],
   "source": [
    "response"
   ]
  },
  {
   "cell_type": "markdown",
   "metadata": {},
   "source": [
    "# Create a Dataset within the New Catalog and Save the Dataset ID"
   ]
  },
  {
   "cell_type": "code",
   "execution_count": 21,
   "metadata": {
    "collapsed": true
   },
   "outputs": [],
   "source": [
    "dataset_info = {\"name\":\"New Dataset\"}\n",
    "_,response = client.create_dataset(catalog_id, dataset_info)"
   ]
  },
  {
   "cell_type": "code",
   "execution_count": 22,
   "metadata": {
    "collapsed": false
   },
   "outputs": [
    {
     "data": {
      "text/plain": [
       "{u'annotations_present': [u'created',\n",
       "  u'id',\n",
       "  u'modified',\n",
       "  u'modified by',\n",
       "  u'name',\n",
       "  u'owner',\n",
       "  u'readok',\n",
       "  u'writeok'],\n",
       " u'created': u'2015-11-05 17:11:05.639515+00:00',\n",
       " u'id': 49,\n",
       " u'modified': u'2015-11-05 17:11:05.639515+00:00',\n",
       " u'modified by': u'u:blaiszik',\n",
       " u'name': u'New Dataset',\n",
       " u'owner': u'u:blaiszik',\n",
       " u'writeok': True}"
      ]
     },
     "execution_count": 22,
     "metadata": {},
     "output_type": "execute_result"
    }
   ],
   "source": [
    "response"
   ]
  },
  {
   "cell_type": "code",
   "execution_count": null,
   "metadata": {
    "collapsed": true
   },
   "outputs": [],
   "source": []
  }
 ],
 "metadata": {
  "kernelspec": {
   "display_name": "Python 2",
   "language": "python",
   "name": "python2"
  },
  "language_info": {
   "codemirror_mode": {
    "name": "ipython",
    "version": 2
   },
   "file_extension": ".py",
   "mimetype": "text/x-python",
   "name": "python",
   "nbconvert_exporter": "python",
   "pygments_lexer": "ipython2",
   "version": "2.7.10"
  }
 },
 "nbformat": 4,
 "nbformat_minor": 0
}
