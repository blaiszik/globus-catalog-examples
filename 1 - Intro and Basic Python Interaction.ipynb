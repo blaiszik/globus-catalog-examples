{
 "cells": [
  {
   "cell_type": "markdown",
   "metadata": {},
   "source": [
    "# 1 - Introduction to Catalog and Basic Python Client Interactions"
   ]
  },
  {
   "cell_type": "markdown",
   "metadata": {},
   "source": [
    "## Before starting, follow installation here\n",
    "\n",
    "### INSTALL REQUIREMENTS\n",
    "1) Install Globus Catalog-client (https://github.com/globusonline/catalog-client)\n",
    "git clone https://github.com/globusonline/catalog-client\n",
    "cd catalog-client\n",
    "python setup.py install --user\n",
    "\n",
    "2) Install Globus Transfer API (https://github.com/globusonline/transfer-api-client-python)\n",
    "git clone https://github.com/globusonline/transfer-api-client-python\n",
    "cd transfer-api-client-python\n",
    "python setup.py install --user\n",
    "\n",
    "### Globus Online - Catalog Command Line Client\n",
    "[https://github.com/globusonline/catalog-client]\n",
    "\n",
    "Catalog User Interface: https://catalog-alpha.globuscs.info/\n",
    "Contact: Ben Blaiszik (blaiszik@uchicago.edu)\n",
    "\n",
    "### OBTAIN GLOBUS CREDENTIALS\n",
    "https://www.globus.org/SignUp - **this is the credential you will use with Catalog**\n"
   ]
  },
  {
   "cell_type": "code",
   "execution_count": null,
   "metadata": {
    "collapsed": true
   },
   "outputs": [],
   "source": []
  },
  {
   "cell_type": "markdown",
   "metadata": {},
   "source": [
    "# Catalog Data Model\n",
    "\n",
    "* <b> Catalogs </b>\n",
    "    * Have specified \"vocabularies\" or tag definitions.\n",
    "        * e.g. beam_energy - float, decription - text\n",
    "    * Catalogs contain many datasets\n",
    "        \n",
    "* <b> Datsets </b>\n",
    "    * Datasets can have tags added and ACLs specified\n",
    "    * Datasets contain many members\n",
    "* <b> Members </b>\n",
    "    * Members can have tags added\n",
    "    * Generally point to a data file or directory on a Globus endpoint\n",
    "    * COuld be a more general URI"
   ]
  },
  {
   "cell_type": "markdown",
   "metadata": {},
   "source": [
    "<img src=\"img/catalog-model.png\" width=70%>"
   ]
  },
  {
   "cell_type": "markdown",
   "metadata": {},
   "source": [
    "# Imports and Authentication\n",
    "* For some versions of iPython Notebook this seems to fail. You can also paste this into your ipython shell using ipython -i"
   ]
  },
  {
   "cell_type": "code",
   "execution_count": 102,
   "metadata": {
    "collapsed": false
   },
   "outputs": [],
   "source": [
    "import os\n",
    "from globusonline.catalog.client.catalog_wrapper import *\n",
    "from globusonline.catalog.client.operators import Op\n",
    "from globusonline.catalog.client.rest_client import RestClientError\n",
    "\n",
    "# Store authentication data in a local file\n",
    "token_file = os.getenv('HOME','')+\"/.ssh/gotoken.txt\"\n",
    "wrap = CatalogWrapper(token_file=token_file)\n",
    "client = wrap.catalogClient"
   ]
  },
  {
   "cell_type": "markdown",
   "metadata": {},
   "source": [
    "# Create a Catalog and Save the ID"
   ]
  },
  {
   "cell_type": "code",
   "execution_count": null,
   "metadata": {
    "collapsed": false
   },
   "outputs": [],
   "source": [
    "catalog_info = { \n",
    "                    \"config\": {\n",
    "                        \"name\":\"Ben Demo Catalog\"\n",
    "                    }\n",
    "               }\n",
    "_,response = client.create_catalog(catalog_info)\n",
    "catalog_id = response['id']\n",
    "response"
   ]
  },
  {
   "cell_type": "markdown",
   "metadata": {},
   "source": [
    "# Create a Dataset within the New Catalog and Save the Dataset ID"
   ]
  },
  {
   "cell_type": "code",
   "execution_count": null,
   "metadata": {
    "collapsed": false
   },
   "outputs": [],
   "source": [
    "dataset_info = {\"name\":\"New Dataset\"}\n",
    "_,response = client.create_dataset(catalog_id, dataset_info)\n",
    "dataset_id = response['id']\n",
    "response"
   ]
  },
  {
   "cell_type": "markdown",
   "metadata": {},
   "source": [
    "# Add a Member to the New Dataset and Save the Member ID"
   ]
  },
  {
   "cell_type": "code",
   "execution_count": null,
   "metadata": {
    "collapsed": false
   },
   "outputs": [],
   "source": [
    "member_info = {\"data_type\":\"file\", \"data_uri\":\"globus://go#ep1/~/test.tst\"}\n",
    "_,response = client.create_member(catalog_id, dataset_id, member_info)\n",
    "member_id = response['id']"
   ]
  },
  {
   "cell_type": "code",
   "execution_count": null,
   "metadata": {
    "collapsed": false
   },
   "outputs": [],
   "source": [
    "response"
   ]
  },
  {
   "cell_type": "markdown",
   "metadata": {},
   "source": [
    "# Get all Members in a Dataset"
   ]
  },
  {
   "cell_type": "code",
   "execution_count": null,
   "metadata": {
    "collapsed": false
   },
   "outputs": [],
   "source": [
    "_, response = client.get_members(catalog_id, dataset_id)\n",
    "for member in response:\n",
    "    print \"[%s] %s  %s\"%(member['id'],member['data_type'],member['data_uri'])"
   ]
  },
  {
   "cell_type": "code",
   "execution_count": null,
   "metadata": {
    "collapsed": false
   },
   "outputs": [],
   "source": [
    "response"
   ]
  },
  {
   "cell_type": "markdown",
   "metadata": {},
   "source": [
    "# Get all Datasets in a Catalog"
   ]
  },
  {
   "cell_type": "code",
   "execution_count": null,
   "metadata": {
    "collapsed": false
   },
   "outputs": [],
   "source": [
    "_,response = client.get_datasets(catalog_id)\n",
    "for dataset in response:\n",
    "    print \"[%s] %s\"%(dataset['id'],dataset['name'])"
   ]
  },
  {
   "cell_type": "code",
   "execution_count": null,
   "metadata": {
    "collapsed": false
   },
   "outputs": [],
   "source": [
    "response"
   ]
  },
  {
   "cell_type": "markdown",
   "metadata": {},
   "source": [
    "# List all Catalog in the Database"
   ]
  },
  {
   "cell_type": "code",
   "execution_count": null,
   "metadata": {
    "collapsed": false
   },
   "outputs": [],
   "source": [
    "_,response = client.get_catalogs()\n",
    "for catalog in response:\n",
    "    print \"[%s] %s\"%(catalog['id'],catalog['config']['name'])"
   ]
  },
  {
   "cell_type": "markdown",
   "metadata": {},
   "source": [
    "# Add an Annotation Definition and Apply it to a Dataset\n",
    "* Available Annotation types {'enum': ['text', 'int8', 'float8', 'boolean', 'timestamptz', 'date']}\n"
   ]
  },
  {
   "cell_type": "code",
   "execution_count": null,
   "metadata": {
    "collapsed": false
   },
   "outputs": [],
   "source": [
    "help(client.create_annotation_def)"
   ]
  },
  {
   "cell_type": "code",
   "execution_count": null,
   "metadata": {
    "collapsed": false
   },
   "outputs": [],
   "source": [
    "new_annotations = [ {\"name\":\"beam_energy\", \"type\":\"float8\"},\n",
    "                    {\"name\":\"reference\", \"type\":\"text\"}, \n",
    "                    {\"name\":\"sample_number\", \"type\":\"int8\"}]\n",
    "responses = []\n",
    "for annotation in new_annotations:\n",
    "    _,response = client.create_annotation_def(catalog_id, annotation['name'],annotation['type'])\n",
    "    responses.append(response)"
   ]
  },
  {
   "cell_type": "code",
   "execution_count": null,
   "metadata": {
    "collapsed": false
   },
   "outputs": [],
   "source": [
    "responses"
   ]
  },
  {
   "cell_type": "code",
   "execution_count": null,
   "metadata": {
    "collapsed": false
   },
   "outputs": [],
   "source": [
    "help(client.add_dataset_annotations)"
   ]
  },
  {
   "cell_type": "code",
   "execution_count": null,
   "metadata": {
    "collapsed": false
   },
   "outputs": [],
   "source": [
    "_,response = client.add_dataset_annotations(catalog_id, dataset_id, {\"beam_energy\":\"1.1\", \"reference\":\"this is a reference\", \n",
    "                                                                     \"sample_number\":1})\n",
    "response"
   ]
  },
  {
   "cell_type": "markdown",
   "metadata": {},
   "source": [
    "# Retrieve Annotations on a Dataset"
   ]
  },
  {
   "cell_type": "code",
   "execution_count": null,
   "metadata": {
    "collapsed": false
   },
   "outputs": [],
   "source": [
    "catalog_annotations = []\n",
    "_,annotation_list = client.get_annotation_defs(catalog_id)\n",
    "for annotation in annotation_list:\n",
    "        catalog_annotations.append(annotation['name'])\n",
    "\n",
    "_,response = client.get_dataset_annotations(catalog_id, dataset_id, catalog_annotations)\n",
    "response"
   ]
  },
  {
   "cell_type": "markdown",
   "metadata": {},
   "source": [
    "# Query for Datasets in a Catalog"
   ]
  },
  {
   "cell_type": "code",
   "execution_count": null,
   "metadata": {
    "collapsed": false
   },
   "outputs": [],
   "source": [
    "help(client.get_datasets)"
   ]
  },
  {
   "cell_type": "markdown",
   "metadata": {},
   "source": [
    "### Valid Operators"
   ]
  },
  {
   "cell_type": "code",
   "execution_count": null,
   "metadata": {
    "collapsed": false
   },
   "outputs": [],
   "source": [
    "Op"
   ]
  },
  {
   "cell_type": "code",
   "execution_count": null,
   "metadata": {
    "collapsed": false
   },
   "outputs": [],
   "source": [
    "_,response =client.get_datasets(catalog_id, selector_list=[(\"beam_energy\",Op['GT'],1)])\n",
    "response"
   ]
  }
 ],
 "metadata": {
  "kernelspec": {
   "display_name": "Python 2",
   "language": "python",
   "name": "python2"
  },
  "language_info": {
   "codemirror_mode": {
    "name": "ipython",
    "version": 2
   },
   "file_extension": ".py",
   "mimetype": "text/x-python",
   "name": "python",
   "nbconvert_exporter": "python",
   "pygments_lexer": "ipython2",
   "version": "2.7.10"
  }
 },
 "nbformat": 4,
 "nbformat_minor": 0
}
