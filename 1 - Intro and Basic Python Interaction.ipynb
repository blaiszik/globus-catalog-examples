{
 "cells": [
  {
   "cell_type": "markdown",
   "metadata": {},
   "source": [
    "# 1 - Introduction to Catalog and Basic Python Client Interactions"
   ]
  },
  {
   "cell_type": "markdown",
   "metadata": {},
   "source": [
    "## Before starting, follow installation here\n",
    "\n",
    "### INSTALL REQUIREMENTS\n",
    "1) Install Globus Catalog-client (https://github.com/globusonline/catalog-client)\n",
    "git clone https://github.com/globusonline/catalog-client\n",
    "cd catalog-client\n",
    "python setup.py install --user\n",
    "\n",
    "2) Install Globus Transfer API (https://github.com/globusonline/transfer-api-client-python)\n",
    "git clone https://github.com/globusonline/transfer-api-client-python\n",
    "cd transfer-api-client-python\n",
    "python setup.py install --user\n",
    "\n",
    "### Globus Online - Catalog Command Line Client\n",
    "[https://github.com/globusonline/catalog-client]\n",
    "\n",
    "Catalog User Interface: https://catalog-alpha.globuscs.info/\n",
    "Contact: Ben Blaiszik (blaiszik@uchicago.edu)\n",
    "\n",
    "### OBTAIN GLOBUS CREDENTIALS\n",
    "https://www.globus.org/SignUp - **this is the credential you will use with Catalog**\n"
   ]
  },
  {
   "cell_type": "code",
   "execution_count": null,
   "metadata": {
    "collapsed": true
   },
   "outputs": [],
   "source": []
  },
  {
   "cell_type": "markdown",
   "metadata": {},
   "source": [
    "# Catalog Data Model\n",
    "\n",
    "* <b> Catalogs </b>\n",
    "    * Have specified \"vocabularies\" or tag definitions.\n",
    "        * e.g. beam_energy - float, decription - text\n",
    "    * Catalogs contain many datasets\n",
    "        \n",
    "* <b> Datsets </b>\n",
    "    * Datasets can have tags added and ACLs specified\n",
    "    * Datasets contain many members\n",
    "* <b> Members </b>\n",
    "    * Members can have tags added\n",
    "    * Generally point to a data file or directory on a Globus endpoint\n",
    "    * COuld be a more general URI"
   ]
  },
  {
   "cell_type": "markdown",
   "metadata": {},
   "source": [
    "<img src=\"img/catalog-model.png\" width=70%>"
   ]
  },
  {
   "cell_type": "markdown",
   "metadata": {},
   "source": [
    "# Imports and Authentication\n",
    "* For some versions of iPython Notebook this seems to fail. You can also paste this into your ipython shell using ipython -i"
   ]
  },
  {
   "cell_type": "code",
   "execution_count": 102,
   "metadata": {
    "collapsed": false
   },
   "outputs": [],
   "source": [
    "import os\n",
    "from globusonline.catalog.client.catalog_wrapper import *\n",
    "from globusonline.catalog.client.operators import Op\n",
    "from globusonline.catalog.client.rest_client import RestClientError\n",
    "\n",
    "# Store authentication data in a local file\n",
    "token_file = os.getenv('HOME','')+\"/.ssh/gotoken.txt\"\n",
    "wrap = CatalogWrapper(token_file=token_file)\n",
    "client = wrap.catalogClient"
   ]
  },
  {
   "cell_type": "markdown",
   "metadata": {},
   "source": [
    "# Create a Catalog and Save the ID"
   ]
  },
  {
   "cell_type": "code",
   "execution_count": 103,
   "metadata": {
    "collapsed": false
   },
   "outputs": [
    {
     "data": {
      "text/plain": [
       "{u'config': {u'content_read_users': [u'*'],\n",
       "  u'content_write_users': [u'*'],\n",
       "  u'name': u'Ben Demo Catalog',\n",
       "  u'owner': u'u:blaiszik',\n",
       "  u'read_users': [u'*'],\n",
       "  u'write_users': []},\n",
       " u'id': 146}"
      ]
     },
     "execution_count": 103,
     "metadata": {},
     "output_type": "execute_result"
    }
   ],
   "source": [
    "catalog_info = { \n",
    "                    \"config\": {\n",
    "                        \"name\":\"Ben Demo Catalog\"\n",
    "                    }\n",
    "               }\n",
    "_,response = client.create_catalog(catalog_info)\n",
    "catalog_id = response['id']\n",
    "response"
   ]
  },
  {
   "cell_type": "markdown",
   "metadata": {},
   "source": [
    "# Create a Dataset within the New Catalog and Save the Dataset ID"
   ]
  },
  {
   "cell_type": "code",
   "execution_count": 104,
   "metadata": {
    "collapsed": false
   },
   "outputs": [
    {
     "data": {
      "text/plain": [
       "{u'annotations_present': [u'created',\n",
       "  u'id',\n",
       "  u'modified',\n",
       "  u'modified by',\n",
       "  u'name',\n",
       "  u'owner',\n",
       "  u'readok',\n",
       "  u'writeok'],\n",
       " u'created': u'2015-11-05 19:19:57.878085+00:00',\n",
       " u'id': 49,\n",
       " u'modified': u'2015-11-05 19:19:57.878085+00:00',\n",
       " u'modified by': u'u:blaiszik',\n",
       " u'name': u'New Dataset',\n",
       " u'owner': u'u:blaiszik',\n",
       " u'writeok': True}"
      ]
     },
     "execution_count": 104,
     "metadata": {},
     "output_type": "execute_result"
    }
   ],
   "source": [
    "dataset_info = {\"name\":\"New Dataset\"}\n",
    "_,response = client.create_dataset(catalog_id, dataset_info)\n",
    "dataset_id = response['id']\n",
    "response"
   ]
  },
  {
   "cell_type": "markdown",
   "metadata": {},
   "source": [
    "# Add a Member to the New Dataset and Save the Member ID"
   ]
  },
  {
   "cell_type": "code",
   "execution_count": 105,
   "metadata": {
    "collapsed": false
   },
   "outputs": [],
   "source": [
    "member_info = {\"data_type\":\"file\", \"data_uri\":\"globus://go#ep1/~/test.tst\"}\n",
    "_,response = client.create_member(catalog_id, dataset_id, member_info)\n",
    "member_id = response['id']"
   ]
  },
  {
   "cell_type": "code",
   "execution_count": 106,
   "metadata": {
    "collapsed": false
   },
   "outputs": [
    {
     "data": {
      "text/plain": [
       "{u'code': u'Created',\n",
       " u'id': 50,\n",
       " u'message': u'Members created successfully',\n",
       " u'request_id': u'Jt0oisiaz'}"
      ]
     },
     "execution_count": 106,
     "metadata": {},
     "output_type": "execute_result"
    }
   ],
   "source": [
    "response"
   ]
  },
  {
   "cell_type": "markdown",
   "metadata": {},
   "source": [
    "# Get all Members in a Dataset"
   ]
  },
  {
   "cell_type": "code",
   "execution_count": 107,
   "metadata": {
    "collapsed": false
   },
   "outputs": [
    {
     "name": "stdout",
     "output_type": "stream",
     "text": [
      "[50] file  globus://go#ep1/~/test.tst\n"
     ]
    }
   ],
   "source": [
    "_, response = client.get_members(catalog_id, dataset_id)\n",
    "for member in response:\n",
    "    print \"[%s] %s  %s\"%(member['id'],member['data_type'],member['data_uri'])"
   ]
  },
  {
   "cell_type": "code",
   "execution_count": 108,
   "metadata": {
    "collapsed": false
   },
   "outputs": [
    {
     "data": {
      "text/plain": [
       "[{u'data_type': u'file',\n",
       "  u'data_uri': u'globus://go#ep1/~/test.tst',\n",
       "  u'dataset_reference': [u'49'],\n",
       "  u'id': 50}]"
      ]
     },
     "execution_count": 108,
     "metadata": {},
     "output_type": "execute_result"
    }
   ],
   "source": [
    "response"
   ]
  },
  {
   "cell_type": "markdown",
   "metadata": {},
   "source": [
    "# Get all Datasets in a Catalog"
   ]
  },
  {
   "cell_type": "code",
   "execution_count": 109,
   "metadata": {
    "collapsed": false
   },
   "outputs": [
    {
     "name": "stdout",
     "output_type": "stream",
     "text": [
      "[49] New Dataset\n"
     ]
    }
   ],
   "source": [
    "_,response = client.get_datasets(catalog_id)\n",
    "for dataset in response:\n",
    "    print \"[%s] %s\"%(dataset['id'],dataset['name'])"
   ]
  },
  {
   "cell_type": "code",
   "execution_count": 110,
   "metadata": {
    "collapsed": false
   },
   "outputs": [
    {
     "data": {
      "text/plain": [
       "[{u'created': u'2015-11-05 19:19:57.878085+00',\n",
       "  u'favorite': None,\n",
       "  u'id': 49,\n",
       "  u'label': None,\n",
       "  u'modified': u'2015-11-05 19:19:57.878085+00',\n",
       "  u'modified by': u'u:blaiszik',\n",
       "  u'name': u'New Dataset',\n",
       "  u'owner': u'u:blaiszik',\n",
       "  u'readok': True,\n",
       "  u'writeok': True}]"
      ]
     },
     "execution_count": 110,
     "metadata": {},
     "output_type": "execute_result"
    }
   ],
   "source": [
    "response"
   ]
  },
  {
   "cell_type": "markdown",
   "metadata": {},
   "source": [
    "# List all Catalog in the Database"
   ]
  },
  {
   "cell_type": "code",
   "execution_count": 111,
   "metadata": {
    "collapsed": false
   },
   "outputs": [
    {
     "name": "stdout",
     "output_type": "stream",
     "text": [
      "[1] Test\n",
      "[16] RaviTest\n",
      "[17] NexPy-Test\n",
      "[18] Climate_Ocean\n",
      "[34] Materials Catalog\n",
      "[35] XPCS\n",
      "[37] ISI-MIP\n",
      "[38] ESG-ANL\n",
      "[39] Tomography\n",
      "[40] Microscopy\n",
      "[42] Mwilde-Catalog-0\n",
      "[49] Beamline: 2-BM-B\n",
      "[50] Beamline: 32-ID-C\n",
      "[51] APS Facility Catalog\n",
      "[48] simanalyze\n",
      "[52] CuSn Nanotomography\n",
      "[63] Genomics\n",
      "[62] Proteomics\n",
      "[64] Wozniak Test\n",
      "[65] Sector1APS\n",
      "[68] SwiftProvenanceTest\n",
      "[69] SwiftProvenanceTest\n",
      "[70] Swift Provenance\n",
      "[72] IME Nealey\n",
      "[89] ematter\n",
      "[76] NeXus demo 1\n",
      "[77] NeXus demo 2\n",
      "[80] APITEST\n",
      "[94] Data Exchenge\n",
      "[87] Tomography Test\n",
      "[93] NeXus_Production\n",
      "[95] NeXus_Production_2013_LSMO\n",
      "[96] NeXus_Production_2014_BFAP\n",
      "[97] bfap_test\n",
      "[99] acl_test\n",
      "[118] test1\n",
      "[108] Sector 1 Test Catalog\n",
      "[109] New Test\n",
      "[110] MikeDemo\n",
      "[111] myname123456\n",
      "[112] myname123456\n",
      "[113] asdfg3871263192\n",
      "[114] demo catalog\n",
      "[119] XPCS8IDI\n",
      "[122] NeXus_Production_2015_V2O5\n",
      "[123] Demo Catalog\n",
      "[124] s8idi_test\n",
      "[125] XPCS8IDI_2015_2\n",
      "[127] NeXus_Production_2015_2\n",
      "[140] Ben test\n",
      "[138] CLASSE-test\n",
      "[139] XPCS 2016\n",
      "[141] junk1\n",
      "[142] NeXus_Production_2015_CHESS\n",
      "[143] foo\n",
      "[146] Ben Demo Catalog\n"
     ]
    }
   ],
   "source": [
    "_,response = client.get_catalogs()\n",
    "for catalog in response:\n",
    "    print \"[%s] %s\"%(catalog['id'],catalog['config']['name'])"
   ]
  },
  {
   "cell_type": "markdown",
   "metadata": {},
   "source": [
    "# Add an Annotation Definition and Apply it to a Dataset\n",
    "* Available Annotation types {'enum': ['text', 'int8', 'float8', 'boolean', 'timestamptz', 'date']}\n"
   ]
  },
  {
   "cell_type": "code",
   "execution_count": 112,
   "metadata": {
    "collapsed": false
   },
   "outputs": [
    {
     "name": "stdout",
     "output_type": "stream",
     "text": [
      "Help on method create_annotation_def in module globusonline.catalog.client.dataset_client:\n",
      "\n",
      "create_annotation_def(self, catalog_id, annotation_name, value_type, multivalued=False, unique=False) method of globusonline.catalog.client.dataset_client.DatasetClient instance\n",
      "\n"
     ]
    }
   ],
   "source": [
    "help(client.create_annotation_def)"
   ]
  },
  {
   "cell_type": "code",
   "execution_count": 113,
   "metadata": {
    "collapsed": false
   },
   "outputs": [],
   "source": [
    "new_annotations = [ {\"name\":\"beam_energy\", \"type\":\"float8\"},\n",
    "                    {\"name\":\"reference\", \"type\":\"text\"}, \n",
    "                    {\"name\":\"sample_number\", \"type\":\"int8\"}]\n",
    "responses = []\n",
    "for annotation in new_annotations:\n",
    "    _,response = client.create_annotation_def(catalog_id, annotation['name'],annotation['type'])\n",
    "    responses.append(response)"
   ]
  },
  {
   "cell_type": "code",
   "execution_count": 114,
   "metadata": {
    "collapsed": false
   },
   "outputs": [
    {
     "data": {
      "text/plain": [
       "[{u'multivalued': False,\n",
       "  u'name': u':beam_energy',\n",
       "  u'read users': u'*',\n",
       "  u'readpolicy': u'anonymous',\n",
       "  u'unique': False,\n",
       "  u'value_type': u'float8',\n",
       "  u'writepolicy': u'anonymous'},\n",
       " {u'multivalued': False,\n",
       "  u'name': u':reference',\n",
       "  u'read users': u'*',\n",
       "  u'readpolicy': u'anonymous',\n",
       "  u'unique': False,\n",
       "  u'value_type': u'text',\n",
       "  u'writepolicy': u'anonymous'},\n",
       " {u'multivalued': False,\n",
       "  u'name': u':sample_number',\n",
       "  u'read users': u'*',\n",
       "  u'readpolicy': u'anonymous',\n",
       "  u'unique': False,\n",
       "  u'value_type': u'int8',\n",
       "  u'writepolicy': u'anonymous'}]"
      ]
     },
     "execution_count": 114,
     "metadata": {},
     "output_type": "execute_result"
    }
   ],
   "source": [
    "responses"
   ]
  },
  {
   "cell_type": "code",
   "execution_count": 115,
   "metadata": {
    "collapsed": false
   },
   "outputs": [
    {
     "name": "stdout",
     "output_type": "stream",
     "text": [
      "Help on method add_dataset_annotations in module globusonline.catalog.client.dataset_client:\n",
      "\n",
      "add_dataset_annotations(self, catalog_id, dataset_id, annotations_dict) method of globusonline.catalog.client.dataset_client.DatasetClient instance\n",
      "\n"
     ]
    }
   ],
   "source": [
    "help(client.add_dataset_annotations)"
   ]
  },
  {
   "cell_type": "code",
   "execution_count": 116,
   "metadata": {
    "collapsed": false
   },
   "outputs": [
    {
     "data": {
      "text/plain": [
       "{u'code': u'Added',\n",
       " u'message': u'Annotations added successfully',\n",
       " u'request_id': u'xIkRgsF6K'}"
      ]
     },
     "execution_count": 116,
     "metadata": {},
     "output_type": "execute_result"
    }
   ],
   "source": [
    "_,response = client.add_dataset_annotations(catalog_id, dataset_id, {\"beam_energy\":\"1.1\", \"reference\":\"this is a reference\", \n",
    "                                                                     \"sample_number\":1})\n",
    "response"
   ]
  },
  {
   "cell_type": "markdown",
   "metadata": {},
   "source": [
    "# Retrieve Annotations on a Dataset"
   ]
  },
  {
   "cell_type": "code",
   "execution_count": 117,
   "metadata": {
    "collapsed": false
   },
   "outputs": [
    {
     "data": {
      "text/plain": [
       "[{u'beam_energy': 1.1,\n",
       "  u'created': u'2015-11-05 19:19:57.878085+00',\n",
       "  u'data_id': None,\n",
       "  u'data_type': None,\n",
       "  u'data_uri': None,\n",
       "  u'dataset_reference': None,\n",
       "  u'favorite': None,\n",
       "  u'id': 49,\n",
       "  u'label': None,\n",
       "  u'modified': u'2015-11-05 19:19:57.878085+00',\n",
       "  u'modified by': u'u:blaiszik',\n",
       "  u'name': u'New Dataset',\n",
       "  u'owner': u'u:blaiszik',\n",
       "  u'readok': True,\n",
       "  u'reference': u'this is a reference',\n",
       "  u'sample_number': 1,\n",
       "  u'share-endpoint': None,\n",
       "  u'share-users': None,\n",
       "  u'writeok': True}]"
      ]
     },
     "execution_count": 117,
     "metadata": {},
     "output_type": "execute_result"
    }
   ],
   "source": [
    "catalog_annotations = []\n",
    "_,annotation_list = client.get_annotation_defs(catalog_id)\n",
    "for annotation in annotation_list:\n",
    "        catalog_annotations.append(annotation['name'])\n",
    "\n",
    "_,response = client.get_dataset_annotations(catalog_id, dataset_id, catalog_annotations)\n",
    "response"
   ]
  },
  {
   "cell_type": "markdown",
   "metadata": {},
   "source": [
    "# Query for Datasets in a Catalog"
   ]
  },
  {
   "cell_type": "code",
   "execution_count": 118,
   "metadata": {
    "collapsed": false
   },
   "outputs": [
    {
     "name": "stdout",
     "output_type": "stream",
     "text": [
      "Help on method get_datasets in module globusonline.catalog.client.dataset_client:\n",
      "\n",
      "get_datasets(self, catalog_id, last_id=None, limit=100, selector_list=None) method of globusonline.catalog.client.dataset_client.DatasetClient instance\n",
      "    Get a paged list of datasets the user has permission to view.\n",
      "    Paging is done based on last id from the previous page, not numeric\n",
      "    offset.\n",
      "    \n",
      "    @return: list of dataset dictionaries\n",
      "\n"
     ]
    }
   ],
   "source": [
    "help(client.get_datasets)"
   ]
  },
  {
   "cell_type": "markdown",
   "metadata": {},
   "source": [
    "### Valid Operators"
   ]
  },
  {
   "cell_type": "code",
   "execution_count": 119,
   "metadata": {
    "collapsed": false
   },
   "outputs": [
    {
     "data": {
      "text/plain": [
       "{'ABSENT': ':absent:',\n",
       " 'EQUAL': '=',\n",
       " 'FULLTEXT': ':word:',\n",
       " 'GEQ': ':geq:',\n",
       " 'GT': ':gt:',\n",
       " 'LEQ': ':leq:',\n",
       " 'LIKE': ':like:',\n",
       " 'LT': ':lt:',\n",
       " 'NOT_EQUAL': '!=',\n",
       " 'NOT_FULLTEXT': ':!word:',\n",
       " 'NOT_REGEXP': ':!regexp:',\n",
       " 'NOT_REGEXP_CASE_INSENSITIVE': ':!ciregexp:',\n",
       " 'REGEXP': ':regexp:',\n",
       " 'REGEXP_CASE_INSENSITIVE': ':ciregexp:',\n",
       " 'SIMTO': ':simto:',\n",
       " 'TAGGED': ''}"
      ]
     },
     "execution_count": 119,
     "metadata": {},
     "output_type": "execute_result"
    }
   ],
   "source": [
    "Op"
   ]
  },
  {
   "cell_type": "code",
   "execution_count": 120,
   "metadata": {
    "collapsed": false
   },
   "outputs": [
    {
     "data": {
      "text/plain": [
       "[{u'created': u'2015-11-05 19:19:57.878085+00',\n",
       "  u'favorite': None,\n",
       "  u'id': 49,\n",
       "  u'label': None,\n",
       "  u'modified': u'2015-11-05 19:19:57.878085+00',\n",
       "  u'modified by': u'u:blaiszik',\n",
       "  u'name': u'New Dataset',\n",
       "  u'owner': u'u:blaiszik',\n",
       "  u'readok': True,\n",
       "  u'writeok': True}]"
      ]
     },
     "execution_count": 120,
     "metadata": {},
     "output_type": "execute_result"
    }
   ],
   "source": [
    "_,response =client.get_datasets(catalog_id, selector_list=[(\"beam_energy\",Op['GT'],1)])\n",
    "response"
   ]
  }
 ],
 "metadata": {
  "kernelspec": {
   "display_name": "Python 2",
   "language": "python",
   "name": "python2"
  },
  "language_info": {
   "codemirror_mode": {
    "name": "ipython",
    "version": 2
   },
   "file_extension": ".py",
   "mimetype": "text/x-python",
   "name": "python",
   "nbconvert_exporter": "python",
   "pygments_lexer": "ipython2",
   "version": "2.7.10"
  }
 },
 "nbformat": 4,
 "nbformat_minor": 0
}
