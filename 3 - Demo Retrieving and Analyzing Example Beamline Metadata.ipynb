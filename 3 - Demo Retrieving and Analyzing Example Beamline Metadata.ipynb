{
 "cells": [
  {
   "cell_type": "markdown",
   "metadata": {},
   "source": [
    "# 2 - Demo Retrieving and Analyzing Example Beamline Metadata\n",
    "\n",
    "* ### For these examples you will need to have matplotlib, seaborn, pandas, scipy, and numpy installed\n",
    "* ### Also you will need the globus python packages installed from Demo 1"
   ]
  },
  {
   "cell_type": "markdown",
   "metadata": {},
   "source": [
    "# Imports"
   ]
  },
  {
   "cell_type": "code",
   "execution_count": 3,
   "metadata": {
    "collapsed": false
   },
   "outputs": [],
   "source": [
    "import scipy\n",
    "from scipy import *\n",
    "import numpy as np\n",
    "import pandas as pd\n",
    "import os\n",
    "import seaborn as sns\n",
    "import matplotlib.pyplot as plt\n",
    "\n",
    "from globusonline.catalog.client.catalog_wrapper import *\n",
    "from globusonline.catalog.client.operators import Op\n",
    "from globusonline.catalog.client.rest_client import RestClientError\n",
    "%matplotlib inline"
   ]
  },
  {
   "cell_type": "code",
   "execution_count": 4,
   "metadata": {
    "collapsed": true
   },
   "outputs": [],
   "source": [
    "sns.set_context(\"talk\", font_scale=1.1)\n",
    "\n",
    "ben_style = {'axes.axisbelow': True,\n",
    " 'axes.edgecolor': '0',\n",
    " 'axes.facecolor': 'white',\n",
    " 'axes.grid': True,\n",
    " 'axes.labelcolor': '.15',\n",
    " 'axes.linewidth': 1,\n",
    " 'figure.facecolor': 'white',\n",
    " 'font.family': [u'sans-serif'],\n",
    "             'font.size': 50,\n",
    " 'font.sans-serif': [u'Helvetica Neue',\n",
    "  u'Liberation Sans',\n",
    "  u'Bitstream Vera Sans',\n",
    "  u'sans-serif'],\n",
    " 'grid.color': '0.9',\n",
    " 'grid.linestyle': u'',\n",
    " 'image.cmap': u'Greys',\n",
    " 'legend.frameon': False,\n",
    " 'legend.numpoints': 1,\n",
    " 'legend.scatterpoints': 1,\n",
    " 'lines.solid_capstyle': u'round',\n",
    " 'text.color': '.15',\n",
    " 'xtick.color': '.15',\n",
    " 'xtick.direction': u'in',\n",
    " 'xtick.major.size': 3.0,\n",
    " 'xtick.minor.size': 2.0,\n",
    " 'ytick.color': '.15',\n",
    " 'ytick.direction': u'in',\n",
    " 'ytick.major.size': 3.0,\n",
    " 'ytick.minor.size': 2.0}\n",
    "\n",
    "sns.set_style(\"white\", ben_style)"
   ]
  },
  {
   "cell_type": "markdown",
   "metadata": {},
   "source": [
    "# Push Data to Catalog from a Dataframe"
   ]
  },
  {
   "cell_type": "markdown",
   "metadata": {},
   "source": [
    "## Handle Catalog Authentication"
   ]
  },
  {
   "cell_type": "code",
   "execution_count": 15,
   "metadata": {
    "collapsed": false
   },
   "outputs": [],
   "source": [
    "# Store authentication data in a local file\n",
    "token_file = os.getenv('HOME','')+\"/.ssh/gotoken.txt\"\n",
    "wrap = CatalogWrapper(token_file=token_file)\n",
    "client = wrap.catalogClient"
   ]
  },
  {
   "cell_type": "markdown",
   "metadata": {},
   "source": [
    "### Define function to insert dataframe contents as a dataset in a catalog"
   ]
  },
  {
   "cell_type": "code",
   "execution_count": 45,
   "metadata": {
    "collapsed": true
   },
   "outputs": [],
   "source": [
    "def catalog_insert_df(df, catalog_id, dataset_name='Untitled', create_tags=True):\n",
    "    tag_types = {dtype('O'):'text', dtype('int64'):'int8', dtype('float64'):'float8'}\n",
    "    tags = []\n",
    "    \n",
    "    #Create the necessary tag defs in the catalog\n",
    "    if create_tags:\n",
    "        for key in df.keys():\n",
    "            tags.append({})\n",
    "            try:\n",
    "                _,response = client.create_annotation_def \\\n",
    "                    (catalog_id=catalog_id, annotation_name=key, value_type=tag_types[df[key].dtype])\n",
    "            except Exception, e:\n",
    "                print e\n",
    "                pass\n",
    "            \n",
    "    #Create the dataset \n",
    "    _,result = client.create_dataset(catalog_id,{'name':dataset_name})\n",
    "    dataset_id = result['id']\n",
    "    \n",
    "    #Gather the member data\n",
    "    members = []\n",
    "    for row in df.iterrows():\n",
    "        tmp_dict = {}\n",
    "        for key in row[1].keys():\n",
    "            tmp_dict[key] = row[1][key]\n",
    "        members.append(tmp_dict)\n",
    "    \n",
    "    #Create the members using bulk insert\n",
    "    _,result = client.create_members(catalog_id, dataset_id, members)\n",
    "    \n",
    "    return (catalog_id, dataset_id)"
   ]
  },
  {
   "cell_type": "markdown",
   "metadata": {},
   "source": [
    "### Load a test dataset into a dataframe and display"
   ]
  },
  {
   "cell_type": "code",
   "execution_count": 44,
   "metadata": {
    "collapsed": false
   },
   "outputs": [
    {
     "data": {
      "image/png": "[encoded data removed]",
      "text/plain": [
       "<matplotlib.figure.Figure at 0x10e40e910>"
      ]
     },
     "metadata": {},
     "output_type": "display_data"
    }
   ],
   "source": [
    "filepath = \"./datasets/test.csv\"\n",
    "df = pd.read_csv(filepath)\n",
    "data_columns = list(df.columns.values)\n",
    "\n",
    "fig = sns.lmplot(x=\"time\", y=\"angle\", data=df, order=2, ci=None, fit_reg=False, scatter_kws={\"s\": 15});\n",
    "fig.ax.set_ylabel('Angle ($^\\circ$)')\n",
    "fig.ax.set_xlabel('Time (s)')\n",
    "fig.ax.set_xlim(0,100)\n",
    "fig.ax.set_ylim(0,2000)\n",
    "sns.despine()"
   ]
  },
  {
   "cell_type": "code",
   "execution_count": 39,
   "metadata": {
    "collapsed": false
   },
   "outputs": [
    {
     "data": {
      "text/html": [
       "<div>\n",
       "<table border=\"1\" class=\"dataframe\">\n",
       "  <thead>\n",
       "    <tr style=\"text-align: right;\">\n",
       "      <th></th>\n",
       "      <th>time</th>\n",
       "      <th>angle</th>\n",
       "      <th>material</th>\n",
       "      <th>energy</th>\n",
       "      <th>stress</th>\n",
       "      <th>data_uri</th>\n",
       "      <th>data_type</th>\n",
       "    </tr>\n",
       "  </thead>\n",
       "  <tbody>\n",
       "    <tr>\n",
       "      <th>0</th>\n",
       "      <td>0</td>\n",
       "      <td>0</td>\n",
       "      <td>NiCoO</td>\n",
       "      <td>2</td>\n",
       "      <td>0.000000</td>\n",
       "      <td>globus://go#ep1/file-0.tiff</td>\n",
       "      <td>file</td>\n",
       "    </tr>\n",
       "    <tr>\n",
       "      <th>1</th>\n",
       "      <td>1</td>\n",
       "      <td>18</td>\n",
       "      <td>NiCoO</td>\n",
       "      <td>2</td>\n",
       "      <td>0.000000</td>\n",
       "      <td>globus://go#ep1/file-1.tiff</td>\n",
       "      <td>file</td>\n",
       "    </tr>\n",
       "    <tr>\n",
       "      <th>2</th>\n",
       "      <td>2</td>\n",
       "      <td>36</td>\n",
       "      <td>NiCoO</td>\n",
       "      <td>2</td>\n",
       "      <td>0.301030</td>\n",
       "      <td>globus://go#ep1/file-2.tiff</td>\n",
       "      <td>file</td>\n",
       "    </tr>\n",
       "    <tr>\n",
       "      <th>3</th>\n",
       "      <td>3</td>\n",
       "      <td>54</td>\n",
       "      <td>NiCoO</td>\n",
       "      <td>2</td>\n",
       "      <td>0.477121</td>\n",
       "      <td>globus://go#ep1/file-3.tiff</td>\n",
       "      <td>file</td>\n",
       "    </tr>\n",
       "    <tr>\n",
       "      <th>4</th>\n",
       "      <td>4</td>\n",
       "      <td>72</td>\n",
       "      <td>NiCoO</td>\n",
       "      <td>2</td>\n",
       "      <td>0.602060</td>\n",
       "      <td>globus://go#ep1/file-4.tiff</td>\n",
       "      <td>file</td>\n",
       "    </tr>\n",
       "  </tbody>\n",
       "</table>\n",
       "</div>"
      ],
      "text/plain": [
       "   time  angle material  energy    stress                     data_uri  \\\n",
       "0     0      0    NiCoO       2  0.000000  globus://go#ep1/file-0.tiff   \n",
       "1     1     18    NiCoO       2  0.000000  globus://go#ep1/file-1.tiff   \n",
       "2     2     36    NiCoO       2  0.301030  globus://go#ep1/file-2.tiff   \n",
       "3     3     54    NiCoO       2  0.477121  globus://go#ep1/file-3.tiff   \n",
       "4     4     72    NiCoO       2  0.602060  globus://go#ep1/file-4.tiff   \n",
       "\n",
       "  data_type  \n",
       "0      file  \n",
       "1      file  \n",
       "2      file  \n",
       "3      file  \n",
       "4      file  "
      ]
     },
     "execution_count": 39,
     "metadata": {},
     "output_type": "execute_result"
    }
   ],
   "source": [
    "df.head()"
   ]
  },
  {
   "cell_type": "code",
   "execution_count": 12,
   "metadata": {
    "collapsed": false
   },
   "outputs": [
    {
     "data": {
      "text/html": [
       "<div>\n",
       "<table border=\"1\" class=\"dataframe\">\n",
       "  <thead>\n",
       "    <tr style=\"text-align: right;\">\n",
       "      <th></th>\n",
       "      <th>time</th>\n",
       "      <th>angle</th>\n",
       "      <th>energy</th>\n",
       "      <th>stress</th>\n",
       "    </tr>\n",
       "  </thead>\n",
       "  <tbody>\n",
       "    <tr>\n",
       "      <th>count</th>\n",
       "      <td>99.000000</td>\n",
       "      <td>99.000000</td>\n",
       "      <td>99.000000</td>\n",
       "      <td>99.000000</td>\n",
       "    </tr>\n",
       "    <tr>\n",
       "      <th>mean</th>\n",
       "      <td>49.000000</td>\n",
       "      <td>882.000000</td>\n",
       "      <td>34.898990</td>\n",
       "      <td>1.555297</td>\n",
       "    </tr>\n",
       "    <tr>\n",
       "      <th>std</th>\n",
       "      <td>28.722813</td>\n",
       "      <td>517.010638</td>\n",
       "      <td>26.100862</td>\n",
       "      <td>0.430581</td>\n",
       "    </tr>\n",
       "    <tr>\n",
       "      <th>min</th>\n",
       "      <td>0.000000</td>\n",
       "      <td>0.000000</td>\n",
       "      <td>2.000000</td>\n",
       "      <td>0.000000</td>\n",
       "    </tr>\n",
       "    <tr>\n",
       "      <th>25%</th>\n",
       "      <td>24.500000</td>\n",
       "      <td>441.000000</td>\n",
       "      <td>8.500000</td>\n",
       "      <td>1.389076</td>\n",
       "    </tr>\n",
       "    <tr>\n",
       "      <th>50%</th>\n",
       "      <td>49.000000</td>\n",
       "      <td>882.000000</td>\n",
       "      <td>33.000000</td>\n",
       "      <td>1.690196</td>\n",
       "    </tr>\n",
       "    <tr>\n",
       "      <th>75%</th>\n",
       "      <td>73.500000</td>\n",
       "      <td>1323.000000</td>\n",
       "      <td>57.500000</td>\n",
       "      <td>1.866277</td>\n",
       "    </tr>\n",
       "    <tr>\n",
       "      <th>max</th>\n",
       "      <td>98.000000</td>\n",
       "      <td>1764.000000</td>\n",
       "      <td>82.000000</td>\n",
       "      <td>1.991226</td>\n",
       "    </tr>\n",
       "  </tbody>\n",
       "</table>\n",
       "</div>"
      ],
      "text/plain": [
       "            time        angle     energy     stress\n",
       "count  99.000000    99.000000  99.000000  99.000000\n",
       "mean   49.000000   882.000000  34.898990   1.555297\n",
       "std    28.722813   517.010638  26.100862   0.430581\n",
       "min     0.000000     0.000000   2.000000   0.000000\n",
       "25%    24.500000   441.000000   8.500000   1.389076\n",
       "50%    49.000000   882.000000  33.000000   1.690196\n",
       "75%    73.500000  1323.000000  57.500000   1.866277\n",
       "max    98.000000  1764.000000  82.000000   1.991226"
      ]
     },
     "execution_count": 12,
     "metadata": {},
     "output_type": "execute_result"
    }
   ],
   "source": [
    "df.describe()"
   ]
  },
  {
   "cell_type": "markdown",
   "metadata": {},
   "source": [
    "### Set catalog and dataset details and then push the dataframe"
   ]
  },
  {
   "cell_type": "code",
   "execution_count": 21,
   "metadata": {
    "collapsed": false
   },
   "outputs": [
    {
     "name": "stdout",
     "output_type": "stream",
     "text": [
      "creating tags\n",
      "RestClientError httpstatus='409 Conflict', message='409 Conflict\n",
      "The request conflicts with the state of the server. Tag :data_uri is already defined.\n",
      "', code='TagfilerError', request_id='LjjUrXl23'\n",
      "RestClientError httpstatus='409 Conflict', message='409 Conflict\n",
      "The request conflicts with the state of the server. Tag :data_type is already defined.\n",
      "', code='TagfilerError', request_id='65ThijHfR'\n",
      "(146, 62)\n"
     ]
    }
   ],
   "source": [
    "filepath = \"./datasets/test.csv\"\n",
    "catalog_id = 146\n",
    "dataset_title = \"My New Dataset\"\n",
    "\n",
    "#Read from csv into a dataframe\n",
    "df = pd.read_csv(filepath)\n",
    "data_columns = list(df.columns.values)\n",
    "\n",
    "#Insert into catalog\n",
    "ids = catalog_insert_df(df, catalog_id, dataset_title, create_tags=True)\n",
    "print ids"
   ]
  },
  {
   "cell_type": "code",
   "execution_count": null,
   "metadata": {
    "collapsed": true
   },
   "outputs": [],
   "source": []
  },
  {
   "cell_type": "markdown",
   "metadata": {},
   "source": [
    "#Read Data Back from Catalog to Pandas"
   ]
  },
  {
   "cell_type": "code",
   "execution_count": 19,
   "metadata": {
    "collapsed": false
   },
   "outputs": [],
   "source": [
    "# Store authentication data in a local file\n",
    "token_file = os.getenv('HOME','')+\"/.ssh/gotoken.txt\"\n",
    "wrap = CatalogWrapper(token_file=token_file)\n",
    "client = wrap.catalogClient"
   ]
  },
  {
   "cell_type": "code",
   "execution_count": 22,
   "metadata": {
    "collapsed": false
   },
   "outputs": [],
   "source": [
    "def dataframe_from_catalog(catalog_id, dataset_id, columns):    \n",
    "    catalog_annotations = []\n",
    "    bad_annotations = []\n",
    "    _,result = client.get_annotation_defs(catalog_id)\n",
    "    for annotation in result:\n",
    "        catalog_annotations.append(annotation['name'])\n",
    "    \n",
    "    #print catalog_annotations\n",
    "        \n",
    "    black_list = ['readok', 'owner', 'writeok', 'created', 'modified', 'modified by']\n",
    "    for item in black_list:\n",
    "        try:   \n",
    "            catalog_annotations.remove(item)\n",
    "        except Exception, e:\n",
    "            pass\n",
    "\n",
    "    \n",
    "    member_annotations = []\n",
    "    _,member_annotations = client.get_all_member_annotations(catalog_id,dataset_id,'',columns,limit=200)\n",
    "    \n",
    "    return pd.DataFrame(member_annotations)"
   ]
  },
  {
   "cell_type": "markdown",
   "metadata": {},
   "source": [
    "    "
   ]
  },
  {
   "cell_type": "code",
   "execution_count": 25,
   "metadata": {
    "collapsed": false
   },
   "outputs": [
    {
     "name": "stdout",
     "output_type": "stream",
     "text": [
      "/catalog/id=146/dataset/id=62/member\n",
      "/catalog/id=146/dataset/id=62/member/time;angle;material;energy;stress;data_uri;data_type/annotation/time;angle;material;energy;stress;data_uri;data_type?limit=200\n"
     ]
    }
   ],
   "source": [
    "catalog_id = ids[0]\n",
    "dataset_id = ids[1]\n",
    "df = dataframe_from_catalog(ids[0], ids[1],data_columns)"
   ]
  },
  {
   "cell_type": "code",
   "execution_count": 26,
   "metadata": {
    "collapsed": false
   },
   "outputs": [
    {
     "data": {
      "text/html": [
       "<div>\n",
       "<table border=\"1\" class=\"dataframe\">\n",
       "  <thead>\n",
       "    <tr style=\"text-align: right;\">\n",
       "      <th></th>\n",
       "      <th>angle</th>\n",
       "      <th>data_type</th>\n",
       "      <th>data_uri</th>\n",
       "      <th>energy</th>\n",
       "      <th>id</th>\n",
       "      <th>material</th>\n",
       "      <th>stress</th>\n",
       "      <th>time</th>\n",
       "    </tr>\n",
       "  </thead>\n",
       "  <tbody>\n",
       "    <tr>\n",
       "      <th>0</th>\n",
       "      <td>1764</td>\n",
       "      <td>file</td>\n",
       "      <td>globus://go#ep1/file-98.tiff</td>\n",
       "      <td>82</td>\n",
       "      <td>63</td>\n",
       "      <td>NiCoO</td>\n",
       "      <td>1.991226</td>\n",
       "      <td>98</td>\n",
       "    </tr>\n",
       "    <tr>\n",
       "      <th>1</th>\n",
       "      <td>1746</td>\n",
       "      <td>file</td>\n",
       "      <td>globus://go#ep1/file-97.tiff</td>\n",
       "      <td>81</td>\n",
       "      <td>64</td>\n",
       "      <td>NiCoO</td>\n",
       "      <td>1.986772</td>\n",
       "      <td>97</td>\n",
       "    </tr>\n",
       "    <tr>\n",
       "      <th>2</th>\n",
       "      <td>1728</td>\n",
       "      <td>file</td>\n",
       "      <td>globus://go#ep1/file-96.tiff</td>\n",
       "      <td>80</td>\n",
       "      <td>65</td>\n",
       "      <td>NiCoO</td>\n",
       "      <td>1.982271</td>\n",
       "      <td>96</td>\n",
       "    </tr>\n",
       "    <tr>\n",
       "      <th>3</th>\n",
       "      <td>1710</td>\n",
       "      <td>file</td>\n",
       "      <td>globus://go#ep1/file-95.tiff</td>\n",
       "      <td>79</td>\n",
       "      <td>66</td>\n",
       "      <td>NiCoO</td>\n",
       "      <td>1.977724</td>\n",
       "      <td>95</td>\n",
       "    </tr>\n",
       "    <tr>\n",
       "      <th>4</th>\n",
       "      <td>1692</td>\n",
       "      <td>file</td>\n",
       "      <td>globus://go#ep1/file-94.tiff</td>\n",
       "      <td>78</td>\n",
       "      <td>67</td>\n",
       "      <td>NiCoO</td>\n",
       "      <td>1.973128</td>\n",
       "      <td>94</td>\n",
       "    </tr>\n",
       "    <tr>\n",
       "      <th>5</th>\n",
       "      <td>1674</td>\n",
       "      <td>file</td>\n",
       "      <td>globus://go#ep1/file-93.tiff</td>\n",
       "      <td>77</td>\n",
       "      <td>68</td>\n",
       "      <td>NiCoO</td>\n",
       "      <td>1.968483</td>\n",
       "      <td>93</td>\n",
       "    </tr>\n",
       "    <tr>\n",
       "      <th>6</th>\n",
       "      <td>1656</td>\n",
       "      <td>file</td>\n",
       "      <td>globus://go#ep1/file-92.tiff</td>\n",
       "      <td>76</td>\n",
       "      <td>69</td>\n",
       "      <td>NiCoO</td>\n",
       "      <td>1.963788</td>\n",
       "      <td>92</td>\n",
       "    </tr>\n",
       "    <tr>\n",
       "      <th>7</th>\n",
       "      <td>1638</td>\n",
       "      <td>file</td>\n",
       "      <td>globus://go#ep1/file-91.tiff</td>\n",
       "      <td>75</td>\n",
       "      <td>70</td>\n",
       "      <td>NiCoO</td>\n",
       "      <td>1.959041</td>\n",
       "      <td>91</td>\n",
       "    </tr>\n",
       "    <tr>\n",
       "      <th>8</th>\n",
       "      <td>1620</td>\n",
       "      <td>file</td>\n",
       "      <td>globus://go#ep1/file-90.tiff</td>\n",
       "      <td>74</td>\n",
       "      <td>71</td>\n",
       "      <td>NiCoO</td>\n",
       "      <td>1.954243</td>\n",
       "      <td>90</td>\n",
       "    </tr>\n",
       "    <tr>\n",
       "      <th>9</th>\n",
       "      <td>1602</td>\n",
       "      <td>file</td>\n",
       "      <td>globus://go#ep1/file-89.tiff</td>\n",
       "      <td>73</td>\n",
       "      <td>72</td>\n",
       "      <td>NiCoO</td>\n",
       "      <td>1.949390</td>\n",
       "      <td>89</td>\n",
       "    </tr>\n",
       "    <tr>\n",
       "      <th>10</th>\n",
       "      <td>1584</td>\n",
       "      <td>file</td>\n",
       "      <td>globus://go#ep1/file-88.tiff</td>\n",
       "      <td>72</td>\n",
       "      <td>73</td>\n",
       "      <td>NiCoO</td>\n",
       "      <td>1.944483</td>\n",
       "      <td>88</td>\n",
       "    </tr>\n",
       "    <tr>\n",
       "      <th>11</th>\n",
       "      <td>1566</td>\n",
       "      <td>file</td>\n",
       "      <td>globus://go#ep1/file-87.tiff</td>\n",
       "      <td>71</td>\n",
       "      <td>74</td>\n",
       "      <td>NiCoO</td>\n",
       "      <td>1.939519</td>\n",
       "      <td>87</td>\n",
       "    </tr>\n",
       "    <tr>\n",
       "      <th>12</th>\n",
       "      <td>1548</td>\n",
       "      <td>file</td>\n",
       "      <td>globus://go#ep1/file-86.tiff</td>\n",
       "      <td>70</td>\n",
       "      <td>75</td>\n",
       "      <td>NiCoO</td>\n",
       "      <td>1.934498</td>\n",
       "      <td>86</td>\n",
       "    </tr>\n",
       "    <tr>\n",
       "      <th>13</th>\n",
       "      <td>1530</td>\n",
       "      <td>file</td>\n",
       "      <td>globus://go#ep1/file-85.tiff</td>\n",
       "      <td>69</td>\n",
       "      <td>76</td>\n",
       "      <td>NiCoO</td>\n",
       "      <td>1.929419</td>\n",
       "      <td>85</td>\n",
       "    </tr>\n",
       "    <tr>\n",
       "      <th>14</th>\n",
       "      <td>1512</td>\n",
       "      <td>file</td>\n",
       "      <td>globus://go#ep1/file-84.tiff</td>\n",
       "      <td>68</td>\n",
       "      <td>77</td>\n",
       "      <td>NiCoO</td>\n",
       "      <td>1.924279</td>\n",
       "      <td>84</td>\n",
       "    </tr>\n",
       "    <tr>\n",
       "      <th>15</th>\n",
       "      <td>1494</td>\n",
       "      <td>file</td>\n",
       "      <td>globus://go#ep1/file-83.tiff</td>\n",
       "      <td>67</td>\n",
       "      <td>78</td>\n",
       "      <td>NiCoO</td>\n",
       "      <td>1.919078</td>\n",
       "      <td>83</td>\n",
       "    </tr>\n",
       "    <tr>\n",
       "      <th>16</th>\n",
       "      <td>1476</td>\n",
       "      <td>file</td>\n",
       "      <td>globus://go#ep1/file-82.tiff</td>\n",
       "      <td>66</td>\n",
       "      <td>79</td>\n",
       "      <td>NiCoO</td>\n",
       "      <td>1.913814</td>\n",
       "      <td>82</td>\n",
       "    </tr>\n",
       "    <tr>\n",
       "      <th>17</th>\n",
       "      <td>1458</td>\n",
       "      <td>file</td>\n",
       "      <td>globus://go#ep1/file-81.tiff</td>\n",
       "      <td>65</td>\n",
       "      <td>80</td>\n",
       "      <td>NiCoO</td>\n",
       "      <td>1.908485</td>\n",
       "      <td>81</td>\n",
       "    </tr>\n",
       "    <tr>\n",
       "      <th>18</th>\n",
       "      <td>1440</td>\n",
       "      <td>file</td>\n",
       "      <td>globus://go#ep1/file-80.tiff</td>\n",
       "      <td>64</td>\n",
       "      <td>81</td>\n",
       "      <td>NiCoO</td>\n",
       "      <td>1.903090</td>\n",
       "      <td>80</td>\n",
       "    </tr>\n",
       "    <tr>\n",
       "      <th>19</th>\n",
       "      <td>1422</td>\n",
       "      <td>file</td>\n",
       "      <td>globus://go#ep1/file-79.tiff</td>\n",
       "      <td>63</td>\n",
       "      <td>82</td>\n",
       "      <td>NiCoO</td>\n",
       "      <td>1.897627</td>\n",
       "      <td>79</td>\n",
       "    </tr>\n",
       "  </tbody>\n",
       "</table>\n",
       "</div>"
      ],
      "text/plain": [
       "    angle data_type                      data_uri  energy  id material  \\\n",
       "0    1764      file  globus://go#ep1/file-98.tiff      82  63    NiCoO   \n",
       "1    1746      file  globus://go#ep1/file-97.tiff      81  64    NiCoO   \n",
       "2    1728      file  globus://go#ep1/file-96.tiff      80  65    NiCoO   \n",
       "3    1710      file  globus://go#ep1/file-95.tiff      79  66    NiCoO   \n",
       "4    1692      file  globus://go#ep1/file-94.tiff      78  67    NiCoO   \n",
       "5    1674      file  globus://go#ep1/file-93.tiff      77  68    NiCoO   \n",
       "6    1656      file  globus://go#ep1/file-92.tiff      76  69    NiCoO   \n",
       "7    1638      file  globus://go#ep1/file-91.tiff      75  70    NiCoO   \n",
       "8    1620      file  globus://go#ep1/file-90.tiff      74  71    NiCoO   \n",
       "9    1602      file  globus://go#ep1/file-89.tiff      73  72    NiCoO   \n",
       "10   1584      file  globus://go#ep1/file-88.tiff      72  73    NiCoO   \n",
       "11   1566      file  globus://go#ep1/file-87.tiff      71  74    NiCoO   \n",
       "12   1548      file  globus://go#ep1/file-86.tiff      70  75    NiCoO   \n",
       "13   1530      file  globus://go#ep1/file-85.tiff      69  76    NiCoO   \n",
       "14   1512      file  globus://go#ep1/file-84.tiff      68  77    NiCoO   \n",
       "15   1494      file  globus://go#ep1/file-83.tiff      67  78    NiCoO   \n",
       "16   1476      file  globus://go#ep1/file-82.tiff      66  79    NiCoO   \n",
       "17   1458      file  globus://go#ep1/file-81.tiff      65  80    NiCoO   \n",
       "18   1440      file  globus://go#ep1/file-80.tiff      64  81    NiCoO   \n",
       "19   1422      file  globus://go#ep1/file-79.tiff      63  82    NiCoO   \n",
       "\n",
       "      stress  time  \n",
       "0   1.991226    98  \n",
       "1   1.986772    97  \n",
       "2   1.982271    96  \n",
       "3   1.977724    95  \n",
       "4   1.973128    94  \n",
       "5   1.968483    93  \n",
       "6   1.963788    92  \n",
       "7   1.959041    91  \n",
       "8   1.954243    90  \n",
       "9   1.949390    89  \n",
       "10  1.944483    88  \n",
       "11  1.939519    87  \n",
       "12  1.934498    86  \n",
       "13  1.929419    85  \n",
       "14  1.924279    84  \n",
       "15  1.919078    83  \n",
       "16  1.913814    82  \n",
       "17  1.908485    81  \n",
       "18  1.903090    80  \n",
       "19  1.897627    79  "
      ]
     },
     "execution_count": 26,
     "metadata": {},
     "output_type": "execute_result"
    }
   ],
   "source": [
    "df.head(20)"
   ]
  },
  {
   "cell_type": "markdown",
   "metadata": {},
   "source": [
    "## Plot of Stress vs Angle for the entire dataset"
   ]
  },
  {
   "cell_type": "code",
   "execution_count": 27,
   "metadata": {
    "collapsed": false,
    "scrolled": false
   },
   "outputs": [
    {
     "data": {
      "image/png": "[encoded data removed]",
      "text/plain": [
       "<matplotlib.figure.Figure at 0x10cfb2c10>"
      ]
     },
     "metadata": {},
     "output_type": "display_data"
    }
   ],
   "source": [
    "sns.set_context('poster')\n",
    "sns.set_palette('Set1')\n",
    "fig = sns.lmplot(x=\"angle\", y=\"stress\", data=df, order=2, ci=None, fit_reg=False, scatter_kws={\"s\": 30});\n",
    "fig.ax.set_xlabel('Angle ($^\\circ$)')\n",
    "fig.ax.set_ylabel('Stress (MPa)')\n",
    "fig.ax.set_xlim(0,720)\n",
    "fig.ax.set_ylim(0,2.1)\n",
    "sns.despine()"
   ]
  },
  {
   "cell_type": "markdown",
   "metadata": {},
   "source": [
    "## Plot of Stress vs Angle for a slice of the dataset"
   ]
  },
  {
   "cell_type": "code",
   "execution_count": 29,
   "metadata": {
    "collapsed": false
   },
   "outputs": [
    {
     "name": "stdout",
     "output_type": "stream",
     "text": [
      "Mean Stress:0.863022756273 | 50 < angle < 250\n",
      "count    11.000000\n",
      "mean      0.863023\n",
      "std       0.205341\n",
      "min       0.477121\n",
      "25%       0.738561\n",
      "50%       0.903090\n",
      "75%       1.020696\n",
      "max       1.113943\n",
      "Name: stress, dtype: float64\n"
     ]
    },
    {
     "data": {
      "image/png": "[encoded data removed]",
      "text/plain": [
       "<matplotlib.figure.Figure at 0x10cfa9110>"
      ]
     },
     "metadata": {},
     "output_type": "display_data"
    }
   ],
   "source": [
    "angle_low = 50\n",
    "angle_high = 250\n",
    "mask = (df.angle>angle_low) & (df.angle<angle_high)\n",
    "df_slice = df[mask]\n",
    "\n",
    "print \"Mean Stress:%s | %s < angle < %s\\n%s\"%(df_slice.stress.mean(), angle_low,\\\n",
    "                                             angle_high, df_slice.stress.describe())\n",
    "fig = sns.lmplot(x=\"angle\", y=\"stress\", data=df_slice,\n",
    "           order=2, ci=None, fit_reg=False, scatter_kws={\"s\": 80});\n",
    "fig.ax.set_xlabel('Angle ($^\\circ$)')\n",
    "fig.ax.set_ylabel('Stress (MPa)')\n",
    "sns.despine()"
   ]
  },
  {
   "cell_type": "markdown",
   "metadata": {},
   "source": [
    "## Fit a line to the angle vs. time data\n",
    "* ### Introduce a bit of variation in the data to make it interesting"
   ]
  },
  {
   "cell_type": "code",
   "execution_count": 31,
   "metadata": {
    "collapsed": false
   },
   "outputs": [
    {
     "data": {
      "image/png": "[encoded data removed]",
      "text/plain": [
       "<matplotlib.figure.Figure at 0x10ccb1490>"
      ]
     },
     "metadata": {},
     "output_type": "display_data"
    }
   ],
   "source": [
    "angle_low = 50\n",
    "angle_high = 250\n",
    "mask = (df.angle>angle_low) & (df.angle<angle_high)\n",
    "df_slice = df[mask]\n",
    "ax = sns.regplot(x='time', y=\"angle\", data=df_slice,\n",
    "           order=1, ci=90, fit_reg=True, truncate=True, scatter_kws={\"s\": 100}, y_jitter=10.0, x_jitter=3);\n",
    "ax.set_xlabel('Time (s)')\n",
    "ax.set_ylabel('Angle ($^\\circ$)')\n",
    "ax.set_ylim(0,360)\n",
    "ax.set_xlim(0,15)\n",
    "sns.despine()"
   ]
  }
 ],
 "metadata": {
  "kernelspec": {
   "display_name": "Python 2",
   "language": "python",
   "name": "python2"
  },
  "language_info": {
   "codemirror_mode": {
    "name": "ipython",
    "version": 2
   },
   "file_extension": ".py",
   "mimetype": "text/x-python",
   "name": "python",
   "nbconvert_exporter": "python",
   "pygments_lexer": "ipython2",
   "version": "2.7.10"
  }
 },
 "nbformat": 4,
 "nbformat_minor": 0
}
