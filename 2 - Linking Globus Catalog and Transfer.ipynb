{
 "cells": [
  {
   "cell_type": "markdown",
   "metadata": {},
   "source": [
    "# 2 - Linking Globus Catalog and Transfer\n",
    "\n",
    "### Lots more to be done here..."
   ]
  },
  {
   "cell_type": "code",
   "execution_count": 1,
   "metadata": {
    "collapsed": true
   },
   "outputs": [],
   "source": [
    "import os\n",
    "from globusonline.catalog.client.catalog_wrapper import *\n",
    "from globusonline.catalog.client.operators import Op\n",
    "from globusonline.catalog.client.rest_client import RestClientError\n",
    "\n",
    "# Store authentication data in a local file\n",
    "token_file = os.getenv('HOME','')+\"/.ssh/gotoken.txt\"\n",
    "gl = CatalogWrapper(token_file=token_file)\n",
    "gl_catalog = gl.catalogClient\n",
    "gl_transfer = gl.transferClient"
   ]
  },
  {
   "cell_type": "markdown",
   "metadata": {},
   "source": [
    "# Transfer API Basics"
   ]
  },
  {
   "cell_type": "code",
   "execution_count": 17,
   "metadata": {
    "collapsed": false
   },
   "outputs": [
    {
     "name": "stdout",
     "output_type": "stream",
     "text": [
      "Globus Username: blaiszik\n",
      "Transfer Base URL: https://transfer.api.globusonline.org/v0.10\n"
     ]
    }
   ],
   "source": [
    "print(\"Globus Username: %s\"%(gl_transfer.username))\n",
    "print(\"Transfer Base URL: %s\"%(gl.transfer_base_url))"
   ]
  },
  {
   "cell_type": "markdown",
   "metadata": {},
   "source": [
    "# List Endpoints\n",
    "* Add details on available arguments "
   ]
  },
  {
   "cell_type": "code",
   "execution_count": 25,
   "metadata": {
    "collapsed": false
   },
   "outputs": [
    {
     "name": "stdout",
     "output_type": "stream",
     "text": [
      "blaiszik#Demo_Data\n",
      "blaiszik#desktop\n",
      "blaiszik#ec2-54-145-47-129\n",
      "blaiszik#macbookpro\n",
      "blaiszik#mdf\n",
      "a283212#test\n",
      "a283212#test1\n",
      "a2832vm#KEG\n",
      "aaronmbr#desk179\n",
      "aavarca#Milhet\n"
     ]
    }
   ],
   "source": [
    "ep_list = gl_transfer.endpoint_list()\n",
    "for ep in ep_list[2]['DATA']:\n",
    "    print(ep['canonical_name'])"
   ]
  },
  {
   "cell_type": "markdown",
   "metadata": {},
   "source": [
    "# Autoactivate Endpoints"
   ]
  },
  {
   "cell_type": "code",
   "execution_count": 30,
   "metadata": {
    "collapsed": false
   },
   "outputs": [
    {
     "name": "stdout",
     "output_type": "stream",
     "text": [
      "(200, 'OK', {u'code': u'AutoActivated.GlobusOnlineCredential', u'resource': u'/endpoint/go%23ep1/autoactivate', u'DATA_TYPE': u'activation_result', u'expires_in': -1, u'length': 0, u'endpoint': u'go#ep1', u'request_id': u'9HuC1aQG9', u'expire_time': u'2015-11-13 21:18:31+00:00', u'message': u'Endpoint activated successfully using Globus Online credentials.', u'DATA': [], u'oauth_server': None, u'subject': u'/C=US/O=Globus Consortium/OU=Globus Connect User/CN=blaiszik'})\n",
      "(200, 'OK', {u'code': u'AutoActivated.GlobusOnlineCredential', u'resource': u'/endpoint/go%23ep2/autoactivate', u'DATA_TYPE': u'activation_result', u'expires_in': -1, u'length': 0, u'endpoint': u'go#ep2', u'request_id': u'wXDub3hFR', u'expire_time': u'2015-11-13 21:18:31+00:00', u'message': u'Endpoint activated successfully using Globus Online credentials.', u'DATA': [], u'oauth_server': None, u'subject': u'/C=US/O=Globus Consortium/OU=Globus Connect User/CN=blaiszik'})\n",
      "(200, 'OK', {u'code': u'AutoActivated.GlobusOnlineCredential', u'resource': u'/endpoint/blaiszik%23macbookpro/autoactivate', u'DATA_TYPE': u'activation_result', u'expires_in': -1, u'length': 0, u'endpoint': u'blaiszik#macbookpro', u'request_id': u'rQ2Yonnqy', u'expire_time': u'2015-11-13 21:18:32+00:00', u'message': u'Endpoint activated successfully using Globus Online credentials.', u'DATA': [], u'oauth_server': None, u'subject': u'/C=US/O=Globus Consortium/OU=Globus Connect User/CN=blaiszik'})\n"
     ]
    }
   ],
   "source": [
    "endpoints = ['go#ep1','go#ep2','blaiszik#macbookpro']\n",
    "for ep in endpoints:\n",
    "    result = gl_transfer.endpoint_autoactivate(ep)\n",
    "    print result"
   ]
  },
  {
   "cell_type": "markdown",
   "metadata": {},
   "source": [
    "# Retrieve Endpoint Contents and Traverse Trees"
   ]
  },
  {
   "cell_type": "code",
   "execution_count": 60,
   "metadata": {
    "collapsed": false
   },
   "outputs": [
    {
     "name": "stdout",
     "output_type": "stream",
     "text": [
      "Endpoint: go#ep1\n",
      "Path: /share/godata/\n",
      "(file) - file1.txt [4]\n",
      "(file) - file2.txt [4]\n",
      "(file) - file3.txt [6]\n",
      "\n",
      "Endpoint: blaiszik#macbookpro\n",
      "Path: /Users/Ben/Desktop/blaiszik-macbookpro/\n",
      "(dir) - Cahill Data [238]\n",
      "(dir) - Ian Demo Data [170]\n",
      "(dir) - mdf [170]\n",
      "(file) - .DS_Store [10244]\n",
      "(file) - Publication.mov [79948668]\n",
      "(file) - Sharing.mp4 [39918514]\n",
      "\n"
     ]
    }
   ],
   "source": [
    "ls_list = [(\"go#ep1\",\"/share/godata\"), \n",
    "           (\"blaiszik#macbookpro\",'/Users/Ben/Desktop/blaiszik-macbookpro')]\n",
    "for ep,path in ls_list:\n",
    "    result = gl_transfer.endpoint_ls(ep, path)\n",
    "    if result[0] == 200:\n",
    "        print(\"Endpoint: %s\"%result[2]['endpoint'])\n",
    "        print(\"Path: %s\"%result[2]['path'])\n",
    "        for item in result[2]['DATA']:\n",
    "            print(\"(%s) - %s [%s]\"%(item['type'],item['name'], item['size']))\n",
    "        print"
   ]
  },
  {
   "cell_type": "markdown",
   "metadata": {},
   "source": [
    "# Initiating a Transfer of all Dataset Members"
   ]
  },
  {
   "cell_type": "code",
   "execution_count": 65,
   "metadata": {
    "collapsed": false
   },
   "outputs": [
    {
     "name": "stdout",
     "output_type": "stream",
     "text": [
      "[{u'dataset_reference': [u'200'], u'id': 201, u'data_type': u'file', u'data_uri': u'globus://go#ep1/~/test.tst'}]\n"
     ]
    }
   ],
   "source": [
    "datasets = [(140,200)]\n",
    "\n",
    "for cat_id, ds_id  in datasets:\n",
    "    _,members = gl_catalog.get_members(140,200)\n",
    "    print members"
   ]
  },
  {
   "cell_type": "code",
   "execution_count": 63,
   "metadata": {
    "collapsed": false
   },
   "outputs": [
    {
     "data": {
      "text/plain": [
       "[{u'data_type': u'file',\n",
       "  u'data_uri': u'globus://go#ep1/~/test.tst',\n",
       "  u'dataset_reference': [u'200'],\n",
       "  u'id': 201}]"
      ]
     },
     "execution_count": 63,
     "metadata": {},
     "output_type": "execute_result"
    }
   ],
   "source": [
    "members"
   ]
  },
  {
   "cell_type": "code",
   "execution_count": null,
   "metadata": {
    "collapsed": true
   },
   "outputs": [],
   "source": []
  }
 ],
 "metadata": {
  "kernelspec": {
   "display_name": "Python 2",
   "language": "python",
   "name": "python2"
  },
  "language_info": {
   "codemirror_mode": {
    "name": "ipython",
    "version": 2
   },
   "file_extension": ".py",
   "mimetype": "text/x-python",
   "name": "python",
   "nbconvert_exporter": "python",
   "pygments_lexer": "ipython2",
   "version": "2.7.10"
  }
 },
 "nbformat": 4,
 "nbformat_minor": 0
}
